{
 "cells": [
  {
   "cell_type": "markdown",
   "metadata": {},
   "source": [
    "# Binary Classification"
   ]
  },
  {
   "cell_type": "code",
   "execution_count": 14,
   "metadata": {},
   "outputs": [],
   "source": [
    "import sys\n",
    "sys.path = [\"/Users/kenichi.matsui/Documents/996_github/LightGBM/python-package/\"] + sys.path"
   ]
  },
  {
   "cell_type": "code",
   "execution_count": 15,
   "metadata": {},
   "outputs": [],
   "source": [
    "import lightgbm as lgb\n",
    "import numpy as np\n",
    "import numpy.random as rd\n",
    "import pandas as pd\n",
    "from sklearn.metrics import roc_auc_score, log_loss\n",
    "from sklearn.model_selection import StratifiedKFold\n",
    "\n",
    "from IPython.display import display"
   ]
  },
  {
   "cell_type": "markdown",
   "metadata": {},
   "source": [
    "## Load data"
   ]
  },
  {
   "cell_type": "code",
   "execution_count": 16,
   "metadata": {},
   "outputs": [
    {
     "name": "stdout",
     "output_type": "stream",
     "text": [
      "Loading data...\n",
      "df_train.shape:(7000, 29), df_test.shape:(500, 29)\n"
     ]
    },
    {
     "data": {
      "text/html": [
       "<div>\n",
       "<style scoped>\n",
       "    .dataframe tbody tr th:only-of-type {\n",
       "        vertical-align: middle;\n",
       "    }\n",
       "\n",
       "    .dataframe tbody tr th {\n",
       "        vertical-align: top;\n",
       "    }\n",
       "\n",
       "    .dataframe thead th {\n",
       "        text-align: right;\n",
       "    }\n",
       "</style>\n",
       "<table border=\"1\" class=\"dataframe\">\n",
       "  <thead>\n",
       "    <tr style=\"text-align: right;\">\n",
       "      <th></th>\n",
       "      <th>0</th>\n",
       "      <th>1</th>\n",
       "      <th>2</th>\n",
       "      <th>3</th>\n",
       "      <th>4</th>\n",
       "      <th>5</th>\n",
       "      <th>6</th>\n",
       "      <th>7</th>\n",
       "      <th>8</th>\n",
       "      <th>9</th>\n",
       "      <th>...</th>\n",
       "      <th>19</th>\n",
       "      <th>20</th>\n",
       "      <th>21</th>\n",
       "      <th>22</th>\n",
       "      <th>23</th>\n",
       "      <th>24</th>\n",
       "      <th>25</th>\n",
       "      <th>26</th>\n",
       "      <th>27</th>\n",
       "      <th>28</th>\n",
       "    </tr>\n",
       "  </thead>\n",
       "  <tbody>\n",
       "    <tr>\n",
       "      <th>0</th>\n",
       "      <td>1</td>\n",
       "      <td>0.869</td>\n",
       "      <td>-0.635</td>\n",
       "      <td>0.226</td>\n",
       "      <td>0.327</td>\n",
       "      <td>-0.690</td>\n",
       "      <td>0.754</td>\n",
       "      <td>-0.249</td>\n",
       "      <td>-1.092</td>\n",
       "      <td>0.000</td>\n",
       "      <td>...</td>\n",
       "      <td>-0.010</td>\n",
       "      <td>-0.046</td>\n",
       "      <td>3.102</td>\n",
       "      <td>1.354</td>\n",
       "      <td>0.980</td>\n",
       "      <td>0.978</td>\n",
       "      <td>0.920</td>\n",
       "      <td>0.722</td>\n",
       "      <td>0.989</td>\n",
       "      <td>0.877</td>\n",
       "    </tr>\n",
       "    <tr>\n",
       "      <th>1</th>\n",
       "      <td>1</td>\n",
       "      <td>0.908</td>\n",
       "      <td>0.329</td>\n",
       "      <td>0.359</td>\n",
       "      <td>1.498</td>\n",
       "      <td>-0.313</td>\n",
       "      <td>1.096</td>\n",
       "      <td>-0.558</td>\n",
       "      <td>-1.588</td>\n",
       "      <td>2.173</td>\n",
       "      <td>...</td>\n",
       "      <td>-1.139</td>\n",
       "      <td>-0.001</td>\n",
       "      <td>0.000</td>\n",
       "      <td>0.302</td>\n",
       "      <td>0.833</td>\n",
       "      <td>0.986</td>\n",
       "      <td>0.978</td>\n",
       "      <td>0.780</td>\n",
       "      <td>0.992</td>\n",
       "      <td>0.798</td>\n",
       "    </tr>\n",
       "    <tr>\n",
       "      <th>2</th>\n",
       "      <td>1</td>\n",
       "      <td>0.799</td>\n",
       "      <td>1.471</td>\n",
       "      <td>-1.636</td>\n",
       "      <td>0.454</td>\n",
       "      <td>0.426</td>\n",
       "      <td>1.105</td>\n",
       "      <td>1.282</td>\n",
       "      <td>1.382</td>\n",
       "      <td>0.000</td>\n",
       "      <td>...</td>\n",
       "      <td>1.129</td>\n",
       "      <td>0.900</td>\n",
       "      <td>0.000</td>\n",
       "      <td>0.910</td>\n",
       "      <td>1.108</td>\n",
       "      <td>0.986</td>\n",
       "      <td>0.951</td>\n",
       "      <td>0.803</td>\n",
       "      <td>0.866</td>\n",
       "      <td>0.780</td>\n",
       "    </tr>\n",
       "    <tr>\n",
       "      <th>3</th>\n",
       "      <td>0</td>\n",
       "      <td>1.344</td>\n",
       "      <td>-0.877</td>\n",
       "      <td>0.936</td>\n",
       "      <td>1.992</td>\n",
       "      <td>0.882</td>\n",
       "      <td>1.786</td>\n",
       "      <td>-1.647</td>\n",
       "      <td>-0.942</td>\n",
       "      <td>0.000</td>\n",
       "      <td>...</td>\n",
       "      <td>-0.678</td>\n",
       "      <td>-1.360</td>\n",
       "      <td>0.000</td>\n",
       "      <td>0.947</td>\n",
       "      <td>1.029</td>\n",
       "      <td>0.999</td>\n",
       "      <td>0.728</td>\n",
       "      <td>0.869</td>\n",
       "      <td>1.027</td>\n",
       "      <td>0.958</td>\n",
       "    </tr>\n",
       "    <tr>\n",
       "      <th>4</th>\n",
       "      <td>1</td>\n",
       "      <td>1.105</td>\n",
       "      <td>0.321</td>\n",
       "      <td>1.522</td>\n",
       "      <td>0.883</td>\n",
       "      <td>-1.205</td>\n",
       "      <td>0.681</td>\n",
       "      <td>-1.070</td>\n",
       "      <td>-0.922</td>\n",
       "      <td>0.000</td>\n",
       "      <td>...</td>\n",
       "      <td>-0.374</td>\n",
       "      <td>0.113</td>\n",
       "      <td>0.000</td>\n",
       "      <td>0.756</td>\n",
       "      <td>1.361</td>\n",
       "      <td>0.987</td>\n",
       "      <td>0.838</td>\n",
       "      <td>1.133</td>\n",
       "      <td>0.872</td>\n",
       "      <td>0.808</td>\n",
       "    </tr>\n",
       "  </tbody>\n",
       "</table>\n",
       "<p>5 rows × 29 columns</p>\n",
       "</div>"
      ],
      "text/plain": [
       "   0      1      2      3      4      5      6      7      8      9   ...  \\\n",
       "0   1  0.869 -0.635  0.226  0.327 -0.690  0.754 -0.249 -1.092  0.000  ...   \n",
       "1   1  0.908  0.329  0.359  1.498 -0.313  1.096 -0.558 -1.588  2.173  ...   \n",
       "2   1  0.799  1.471 -1.636  0.454  0.426  1.105  1.282  1.382  0.000  ...   \n",
       "3   0  1.344 -0.877  0.936  1.992  0.882  1.786 -1.647 -0.942  0.000  ...   \n",
       "4   1  1.105  0.321  1.522  0.883 -1.205  0.681 -1.070 -0.922  0.000  ...   \n",
       "\n",
       "      19     20     21     22     23     24     25     26     27     28  \n",
       "0 -0.010 -0.046  3.102  1.354  0.980  0.978  0.920  0.722  0.989  0.877  \n",
       "1 -1.139 -0.001  0.000  0.302  0.833  0.986  0.978  0.780  0.992  0.798  \n",
       "2  1.129  0.900  0.000  0.910  1.108  0.986  0.951  0.803  0.866  0.780  \n",
       "3 -0.678 -1.360  0.000  0.947  1.029  0.999  0.728  0.869  1.027  0.958  \n",
       "4 -0.374  0.113  0.000  0.756  1.361  0.987  0.838  1.133  0.872  0.808  \n",
       "\n",
       "[5 rows x 29 columns]"
      ]
     },
     "metadata": {},
     "output_type": "display_data"
    }
   ],
   "source": [
    "rd.seed(123)\n",
    "print('Loading data...')\n",
    "# load or create your dataset\n",
    "df_train = pd.read_csv('../../binary_classification/binary.train', header=None, sep='\\t')\n",
    "df_test = pd.read_csv('../../binary_classification/binary.test', header=None, sep='\\t')\n",
    "\n",
    "print(\"df_train.shape:{}, df_test.shape:{}\".format(df_train.shape, df_test.shape))\n",
    "display(df_train.head())\n",
    "\n",
    "y_train = df_train[0]\n",
    "y_test = df_test[0]\n",
    "X_train = df_train.drop(0, axis=1)\n",
    "X_test = df_test.drop(0, axis=1)\n"
   ]
  },
  {
   "cell_type": "code",
   "execution_count": 5,
   "metadata": {},
   "outputs": [
    {
     "data": {
      "text/plain": [
       "[<function lightgbm.callback.early_stopping.<locals>._callback(env)>,\n",
       " <function lightgbm.callback.record_evaluation.<locals>._callback(env)>]"
      ]
     },
     "execution_count": 5,
     "metadata": {},
     "output_type": "execute_result"
    }
   ],
   "source": [
    "\n",
    "\n",
    "callbacks"
   ]
  },
  {
   "cell_type": "code",
   "execution_count": 17,
   "metadata": {},
   "outputs": [
    {
     "name": "stdout",
     "output_type": "stream",
     "text": [
      "Training until validation scores don't improve for 100 rounds.\n",
      "[10]\tcv_agg's train auc: 0.771145 + 0.00105442\tcv_agg's train binary_logloss: 0.612213 + 0.00205895\tcv_agg's valid auc: 0.745838 + 0.0139622\tcv_agg's valid binary_logloss: 0.621781 + 0.00367387\n",
      "[20]\tcv_agg's train auc: 0.788937 + 0.0018676\tcv_agg's train binary_logloss: 0.578536 + 0.00192071\tcv_agg's valid auc: 0.75902 + 0.0152219\tcv_agg's valid binary_logloss: 0.595008 + 0.00697823\n",
      "[30]\tcv_agg's train auc: 0.803447 + 0.00163385\tcv_agg's train binary_logloss: 0.55849 + 0.00148785\tcv_agg's valid auc: 0.767319 + 0.0157379\tcv_agg's valid binary_logloss: 0.582061 + 0.00949525\n",
      "[40]\tcv_agg's train auc: 0.814445 + 0.00163745\tcv_agg's train binary_logloss: 0.54361 + 0.00138999\tcv_agg's valid auc: 0.772337 + 0.0147705\tcv_agg's valid binary_logloss: 0.57453 + 0.00967318\n",
      "[50]\tcv_agg's train auc: 0.824993 + 0.00127279\tcv_agg's train binary_logloss: 0.532171 + 0.00128254\tcv_agg's valid auc: 0.772933 + 0.0160191\tcv_agg's valid binary_logloss: 0.572024 + 0.0108773\n",
      "[60]\tcv_agg's train auc: 0.83332 + 0.00140085\tcv_agg's train binary_logloss: 0.522248 + 0.00130361\tcv_agg's valid auc: 0.772991 + 0.0150407\tcv_agg's valid binary_logloss: 0.570466 + 0.0106739\n",
      "[70]\tcv_agg's train auc: 0.841085 + 0.00139517\tcv_agg's train binary_logloss: 0.51308 + 0.00122529\tcv_agg's valid auc: 0.773932 + 0.0143297\tcv_agg's valid binary_logloss: 0.568707 + 0.0104819\n",
      "[80]\tcv_agg's train auc: 0.848161 + 0.00238491\tcv_agg's train binary_logloss: 0.50501 + 0.00190559\tcv_agg's valid auc: 0.773936 + 0.0143218\tcv_agg's valid binary_logloss: 0.568357 + 0.0106614\n",
      "[90]\tcv_agg's train auc: 0.855314 + 0.00224956\tcv_agg's train binary_logloss: 0.496968 + 0.00194415\tcv_agg's valid auc: 0.773266 + 0.0127905\tcv_agg's valid binary_logloss: 0.568675 + 0.00960916\n",
      "[100]\tcv_agg's train auc: 0.861688 + 0.00225877\tcv_agg's train binary_logloss: 0.48946 + 0.00213899\tcv_agg's valid auc: 0.773914 + 0.0126889\tcv_agg's valid binary_logloss: 0.567869 + 0.00990152\n",
      "[110]\tcv_agg's train auc: 0.867427 + 0.00178804\tcv_agg's train binary_logloss: 0.482607 + 0.00169784\tcv_agg's valid auc: 0.773293 + 0.0129325\tcv_agg's valid binary_logloss: 0.568371 + 0.0101514\n",
      "[120]\tcv_agg's train auc: 0.872883 + 0.00203227\tcv_agg's train binary_logloss: 0.47551 + 0.00208182\tcv_agg's valid auc: 0.772788 + 0.0126863\tcv_agg's valid binary_logloss: 0.568313 + 0.0100007\n",
      "[130]\tcv_agg's train auc: 0.878883 + 0.00212657\tcv_agg's train binary_logloss: 0.468356 + 0.00218149\tcv_agg's valid auc: 0.772374 + 0.0119903\tcv_agg's valid binary_logloss: 0.568852 + 0.0100083\n",
      "[140]\tcv_agg's train auc: 0.883741 + 0.00250207\tcv_agg's train binary_logloss: 0.462018 + 0.00250783\tcv_agg's valid auc: 0.771207 + 0.0117176\tcv_agg's valid binary_logloss: 0.569929 + 0.00983765\n",
      "[150]\tcv_agg's train auc: 0.888403 + 0.00201446\tcv_agg's train binary_logloss: 0.455745 + 0.00234033\tcv_agg's valid auc: 0.77113 + 0.0116124\tcv_agg's valid binary_logloss: 0.569961 + 0.00967098\n",
      "[160]\tcv_agg's train auc: 0.893711 + 0.00179023\tcv_agg's train binary_logloss: 0.449556 + 0.00211362\tcv_agg's valid auc: 0.770994 + 0.0117887\tcv_agg's valid binary_logloss: 0.570111 + 0.00977585\n",
      "[170]\tcv_agg's train auc: 0.898414 + 0.00164109\tcv_agg's train binary_logloss: 0.4435 + 0.00207163\tcv_agg's valid auc: 0.770376 + 0.0114114\tcv_agg's valid binary_logloss: 0.571013 + 0.00957728\n",
      "[180]\tcv_agg's train auc: 0.90274 + 0.00182205\tcv_agg's train binary_logloss: 0.437603 + 0.00173879\tcv_agg's valid auc: 0.76996 + 0.0116664\tcv_agg's valid binary_logloss: 0.571268 + 0.00963639\n",
      "[190]\tcv_agg's train auc: 0.907273 + 0.00174293\tcv_agg's train binary_logloss: 0.431723 + 0.00163902\tcv_agg's valid auc: 0.770018 + 0.0115294\tcv_agg's valid binary_logloss: 0.571464 + 0.00960873\n",
      "[200]\tcv_agg's train auc: 0.911222 + 0.00182659\tcv_agg's train binary_logloss: 0.42645 + 0.00158453\tcv_agg's valid auc: 0.769132 + 0.0107175\tcv_agg's valid binary_logloss: 0.572429 + 0.00905806\n",
      "Early stopping, best iteration is:\n",
      "[104]\tcv_agg's train auc: 0.864025 + 0.00209678\tcv_agg's train binary_logloss: 0.486689 + 0.00208938\tcv_agg's valid auc: 0.774163 + 0.0128129\tcv_agg's valid binary_logloss: 0.567659 + 0.00997623\n"
     ]
    },
    {
     "data": {
      "text/html": [
       "<div>\n",
       "<style scoped>\n",
       "    .dataframe tbody tr th:only-of-type {\n",
       "        vertical-align: middle;\n",
       "    }\n",
       "\n",
       "    .dataframe tbody tr th {\n",
       "        vertical-align: top;\n",
       "    }\n",
       "\n",
       "    .dataframe thead th {\n",
       "        text-align: right;\n",
       "    }\n",
       "</style>\n",
       "<table border=\"1\" class=\"dataframe\">\n",
       "  <thead>\n",
       "    <tr style=\"text-align: right;\">\n",
       "      <th></th>\n",
       "      <th>train auc-mean</th>\n",
       "      <th>train auc-stdv</th>\n",
       "      <th>train binary_logloss-mean</th>\n",
       "      <th>train binary_logloss-stdv</th>\n",
       "      <th>valid auc-mean</th>\n",
       "      <th>valid auc-stdv</th>\n",
       "      <th>valid binary_logloss-mean</th>\n",
       "      <th>valid binary_logloss-stdv</th>\n",
       "    </tr>\n",
       "  </thead>\n",
       "  <tbody>\n",
       "    <tr>\n",
       "      <th>99</th>\n",
       "      <td>0.861688</td>\n",
       "      <td>0.002259</td>\n",
       "      <td>0.489460</td>\n",
       "      <td>0.002139</td>\n",
       "      <td>0.773914</td>\n",
       "      <td>0.012689</td>\n",
       "      <td>0.567869</td>\n",
       "      <td>0.009902</td>\n",
       "    </tr>\n",
       "    <tr>\n",
       "      <th>100</th>\n",
       "      <td>0.862317</td>\n",
       "      <td>0.002210</td>\n",
       "      <td>0.488741</td>\n",
       "      <td>0.002174</td>\n",
       "      <td>0.773939</td>\n",
       "      <td>0.012767</td>\n",
       "      <td>0.567898</td>\n",
       "      <td>0.009931</td>\n",
       "    </tr>\n",
       "    <tr>\n",
       "      <th>101</th>\n",
       "      <td>0.862821</td>\n",
       "      <td>0.002213</td>\n",
       "      <td>0.488106</td>\n",
       "      <td>0.002191</td>\n",
       "      <td>0.773867</td>\n",
       "      <td>0.012762</td>\n",
       "      <td>0.567922</td>\n",
       "      <td>0.009937</td>\n",
       "    </tr>\n",
       "    <tr>\n",
       "      <th>102</th>\n",
       "      <td>0.863465</td>\n",
       "      <td>0.002138</td>\n",
       "      <td>0.487379</td>\n",
       "      <td>0.002094</td>\n",
       "      <td>0.773908</td>\n",
       "      <td>0.012827</td>\n",
       "      <td>0.567912</td>\n",
       "      <td>0.009919</td>\n",
       "    </tr>\n",
       "    <tr>\n",
       "      <th>103</th>\n",
       "      <td>0.864025</td>\n",
       "      <td>0.002097</td>\n",
       "      <td>0.486689</td>\n",
       "      <td>0.002089</td>\n",
       "      <td>0.774163</td>\n",
       "      <td>0.012813</td>\n",
       "      <td>0.567659</td>\n",
       "      <td>0.009976</td>\n",
       "    </tr>\n",
       "  </tbody>\n",
       "</table>\n",
       "</div>"
      ],
      "text/plain": [
       "     train auc-mean  train auc-stdv  train binary_logloss-mean  \\\n",
       "99         0.861688        0.002259                   0.489460   \n",
       "100        0.862317        0.002210                   0.488741   \n",
       "101        0.862821        0.002213                   0.488106   \n",
       "102        0.863465        0.002138                   0.487379   \n",
       "103        0.864025        0.002097                   0.486689   \n",
       "\n",
       "     train binary_logloss-stdv  valid auc-mean  valid auc-stdv  \\\n",
       "99                    0.002139        0.773914        0.012689   \n",
       "100                   0.002174        0.773939        0.012767   \n",
       "101                   0.002191        0.773867        0.012762   \n",
       "102                   0.002094        0.773908        0.012827   \n",
       "103                   0.002089        0.774163        0.012813   \n",
       "\n",
       "     valid binary_logloss-mean  valid binary_logloss-stdv  \n",
       "99                    0.567869                   0.009902  \n",
       "100                   0.567898                   0.009931  \n",
       "101                   0.567922                   0.009937  \n",
       "102                   0.567912                   0.009919  \n",
       "103                   0.567659                   0.009976  "
      ]
     },
     "execution_count": 17,
     "metadata": {},
     "output_type": "execute_result"
    }
   ],
   "source": [
    "# create dataset for lightgbm\n",
    "lgb_train = lgb.Dataset(X_train, y_train)\n",
    "\n",
    "# specify your configurations as a dict\n",
    "params = {\n",
    "    'boosting_type': 'gbdt',\n",
    "    'objective': 'binary',\n",
    "    'metric': ['binary_logloss','auc', ],\n",
    "    #'metric': ['auc', 'binary_logloss',],\n",
    "    'num_leaves': 8,\n",
    "    'learning_rate': 0.1,\n",
    "    'feature_fraction': 0.8,\n",
    "    'bagging_fraction': 0.8,\n",
    "    'bagging_freq': 5,\n",
    "    'verbose': 0\n",
    "}\n",
    "\n",
    "res_dict = {}\n",
    "callbacks = [\n",
    "    lgb.early_stopping(stopping_rounds=100, first_metric_only=True, verbose=True),\n",
    "    #lgb.record_evaluation(res_dict)\n",
    "]\n",
    "\n",
    "# Training settings\n",
    "FOLD_NUM = 5\n",
    "fold_seed = 71\n",
    "folds = StratifiedKFold(n_splits=FOLD_NUM, shuffle=True, random_state=fold_seed)\n",
    "\n",
    "# Fitting\n",
    "ret = lgb.cv(params=params,\n",
    "               train_set=lgb_train,\n",
    "               folds=folds,\n",
    "               num_boost_round=5000,\n",
    "               verbose_eval = 10,\n",
    "               callbacks=callbacks, \n",
    "               eval_train_metric=True,\n",
    "               # return_boosters=True\n",
    "               )\n",
    "\n",
    "#print(f\"best_iteration : {model.best_iteration}\")\n",
    "df_ret = pd.DataFrame(ret)\n",
    "df_ret.tail()"
   ]
  },
  {
   "cell_type": "code",
   "execution_count": 18,
   "metadata": {},
   "outputs": [
    {
     "ename": "NameError",
     "evalue": "name 'model' is not defined",
     "output_type": "error",
     "traceback": [
      "\u001b[0;31m---------------------------------------------------------------------------\u001b[0m",
      "\u001b[0;31mNameError\u001b[0m                                 Traceback (most recent call last)",
      "\u001b[0;32m<ipython-input-18-96e969f3728b>\u001b[0m in \u001b[0;36m<module>\u001b[0;34m()\u001b[0m\n\u001b[0;32m----> 1\u001b[0;31m \u001b[0moof\u001b[0m \u001b[0;34m=\u001b[0m \u001b[0mmodel\u001b[0m\u001b[0;34m.\u001b[0m\u001b[0mget_oof_prediction\u001b[0m\u001b[0;34m(\u001b[0m\u001b[0;34m)\u001b[0m\u001b[0;34m\u001b[0m\u001b[0;34m\u001b[0m\u001b[0m\n\u001b[0m",
      "\u001b[0;31mNameError\u001b[0m: name 'model' is not defined"
     ]
    }
   ],
   "source": [
    "oof = model.get_oof_prediction()"
   ]
  },
  {
   "cell_type": "code",
   "execution_count": 8,
   "metadata": {},
   "outputs": [
    {
     "name": "stdout",
     "output_type": "stream",
     "text": [
      "roc_auc_score on oof preds: 0.7738457589985172\n"
     ]
    }
   ],
   "source": [
    "print(f\"roc_auc_score on oof preds: {roc_auc_score(lgb_train.label, oof)}\")"
   ]
  },
  {
   "cell_type": "code",
   "execution_count": 11,
   "metadata": {},
   "outputs": [],
   "source": [
    "test_preds_list = model.predict(X_test, num_iteration=model.best_iteration)\n",
    "test_preds_avg = np.array(test_preds_list).mean(axis=0)"
   ]
  },
  {
   "cell_type": "code",
   "execution_count": 14,
   "metadata": {},
   "outputs": [
    {
     "name": "stdout",
     "output_type": "stream",
     "text": [
      "roc_auc_score on oof preds: 0.8323819659442725\n"
     ]
    }
   ],
   "source": [
    "print(f\"roc_auc_score on oof preds: {roc_auc_score(y_test, test_preds_avg)}\")"
   ]
  },
  {
   "cell_type": "code",
   "execution_count": null,
   "metadata": {},
   "outputs": [],
   "source": []
  },
  {
   "cell_type": "markdown",
   "metadata": {},
   "source": [
    "# Multi-label classification"
   ]
  },
  {
   "cell_type": "code",
   "execution_count": 35,
   "metadata": {},
   "outputs": [],
   "source": [
    "from sklearn import datasets\n",
    "from sklearn.model_selection import train_test_split\n",
    "from sklearn.metrics import accuracy_score"
   ]
  },
  {
   "cell_type": "code",
   "execution_count": 51,
   "metadata": {},
   "outputs": [
    {
     "name": "stdout",
     "output_type": "stream",
     "text": [
      "[30]\tcv_agg's train multi_error: 0.031262 + 0.0130705\tcv_agg's train multi_logloss: 0.133683 + 0.0162684\tcv_agg's valid multi_error: 0.0716168 + 0.0593762\tcv_agg's valid multi_logloss: 0.303502 + 0.130628\n",
      "[60]\tcv_agg's train multi_error: 0.0156809 + 0.0114783\tcv_agg's train multi_logloss: 0.056532 + 0.014418\tcv_agg's valid multi_error: 0.0807077 + 0.0581416\tcv_agg's valid multi_logloss: 0.300564 + 0.183565\n",
      "Early stopping, best iteration is:\n",
      "[76]\tcv_agg's train multi_error: 0.00893938 + 0.00839559\tcv_agg's train multi_logloss: 0.0430204 + 0.01407\tcv_agg's valid multi_error: 0.072012 + 0.0454085\tcv_agg's valid multi_logloss: 0.31329 + 0.213579\n",
      "best_iteration : 76\n"
     ]
    },
    {
     "data": {
      "text/html": [
       "<div>\n",
       "<style scoped>\n",
       "    .dataframe tbody tr th:only-of-type {\n",
       "        vertical-align: middle;\n",
       "    }\n",
       "\n",
       "    .dataframe tbody tr th {\n",
       "        vertical-align: top;\n",
       "    }\n",
       "\n",
       "    .dataframe thead th {\n",
       "        text-align: right;\n",
       "    }\n",
       "</style>\n",
       "<table border=\"1\" class=\"dataframe\">\n",
       "  <thead>\n",
       "    <tr style=\"text-align: right;\">\n",
       "      <th></th>\n",
       "      <th>train multi_error-mean</th>\n",
       "      <th>train multi_error-stdv</th>\n",
       "      <th>train multi_logloss-mean</th>\n",
       "      <th>train multi_logloss-stdv</th>\n",
       "      <th>valid multi_error-mean</th>\n",
       "      <th>valid multi_error-stdv</th>\n",
       "      <th>valid multi_logloss-mean</th>\n",
       "      <th>valid multi_logloss-stdv</th>\n",
       "    </tr>\n",
       "  </thead>\n",
       "  <tbody>\n",
       "    <tr>\n",
       "      <th>71</th>\n",
       "      <td>0.011187</td>\n",
       "      <td>0.010050</td>\n",
       "      <td>0.045616</td>\n",
       "      <td>0.014136</td>\n",
       "      <td>0.072012</td>\n",
       "      <td>0.045409</td>\n",
       "      <td>0.310668</td>\n",
       "      <td>0.207221</td>\n",
       "    </tr>\n",
       "    <tr>\n",
       "      <th>72</th>\n",
       "      <td>0.011187</td>\n",
       "      <td>0.010050</td>\n",
       "      <td>0.044963</td>\n",
       "      <td>0.014163</td>\n",
       "      <td>0.072012</td>\n",
       "      <td>0.045409</td>\n",
       "      <td>0.310024</td>\n",
       "      <td>0.208473</td>\n",
       "    </tr>\n",
       "    <tr>\n",
       "      <th>73</th>\n",
       "      <td>0.011187</td>\n",
       "      <td>0.010050</td>\n",
       "      <td>0.044321</td>\n",
       "      <td>0.014137</td>\n",
       "      <td>0.072012</td>\n",
       "      <td>0.045409</td>\n",
       "      <td>0.310917</td>\n",
       "      <td>0.209640</td>\n",
       "    </tr>\n",
       "    <tr>\n",
       "      <th>74</th>\n",
       "      <td>0.011187</td>\n",
       "      <td>0.010050</td>\n",
       "      <td>0.043631</td>\n",
       "      <td>0.014155</td>\n",
       "      <td>0.072012</td>\n",
       "      <td>0.045409</td>\n",
       "      <td>0.311601</td>\n",
       "      <td>0.211938</td>\n",
       "    </tr>\n",
       "    <tr>\n",
       "      <th>75</th>\n",
       "      <td>0.008939</td>\n",
       "      <td>0.008396</td>\n",
       "      <td>0.043020</td>\n",
       "      <td>0.014070</td>\n",
       "      <td>0.072012</td>\n",
       "      <td>0.045409</td>\n",
       "      <td>0.313290</td>\n",
       "      <td>0.213579</td>\n",
       "    </tr>\n",
       "  </tbody>\n",
       "</table>\n",
       "</div>"
      ],
      "text/plain": [
       "    train multi_error-mean  train multi_error-stdv  train multi_logloss-mean  \\\n",
       "71                0.011187                0.010050                  0.045616   \n",
       "72                0.011187                0.010050                  0.044963   \n",
       "73                0.011187                0.010050                  0.044321   \n",
       "74                0.011187                0.010050                  0.043631   \n",
       "75                0.008939                0.008396                  0.043020   \n",
       "\n",
       "    train multi_logloss-stdv  valid multi_error-mean  valid multi_error-stdv  \\\n",
       "71                  0.014136                0.072012                0.045409   \n",
       "72                  0.014163                0.072012                0.045409   \n",
       "73                  0.014137                0.072012                0.045409   \n",
       "74                  0.014155                0.072012                0.045409   \n",
       "75                  0.014070                0.072012                0.045409   \n",
       "\n",
       "    valid multi_logloss-mean  valid multi_logloss-stdv  \n",
       "71                  0.310668                  0.207221  \n",
       "72                  0.310024                  0.208473  \n",
       "73                  0.310917                  0.209640  \n",
       "74                  0.311601                  0.211938  \n",
       "75                  0.313290                  0.213579  "
      ]
     },
     "execution_count": 51,
     "metadata": {},
     "output_type": "execute_result"
    }
   ],
   "source": [
    "rd.seed(123)\n",
    "\n",
    "# Loading Iris Dataset\n",
    "iris = datasets.load_iris()\n",
    "X, y = iris.data, iris.target\n",
    "\n",
    "# Split dataset for this demonstration.\n",
    "X_train, X_test, y_train, y_test = train_test_split(X, y,\n",
    "                                                shuffle=True,\n",
    "                                                random_state=42)\n",
    "\n",
    "# one hot representation of y_train\n",
    "max_class_num = y_train.max()+1\n",
    "y_train_ohe = np.identity(max_class_num)[y_train]\n",
    "    \n",
    "# Create LightGBM dataset for train.\n",
    "lgb_train = lgb.Dataset(X_train, y_train, free_raw_data=False)\n",
    "\n",
    "# LightGBM parameter\n",
    "params = {\n",
    "    'boosting_type': 'gbdt',\n",
    "    'objective': 'multiclass',\n",
    "    'metric' : [\"multi_logloss\", \"multi_error\", ],\n",
    "    'num_class': 3,\n",
    "    'verbosity' : -1,\n",
    "}\n",
    "callbacks = [\n",
    "    lgb.early_stopping(stopping_rounds=100, first_metric_only=False, verbose=True),\n",
    "]\n",
    "\n",
    "# Training settings\n",
    "FOLD_NUM = 5\n",
    "fold_seed = 71\n",
    "folds = StratifiedKFold(n_splits=FOLD_NUM, shuffle=True, random_state=fold_seed)\n",
    "eval_train_metric=True\n",
    "# # Fitting\n",
    "ret, model = lgb.cv(params=params,\n",
    "               train_set=lgb_train,\n",
    "               folds=folds,\n",
    "               num_boost_round=1000,\n",
    "               verbose_eval = 30,\n",
    "               callbacks=callbacks, \n",
    "               eval_train_metric=eval_train_metric,\n",
    "               return_boosters=True\n",
    "               )\n",
    "\n",
    "print(f\"best_iteration : {model.best_iteration}\")\n",
    "df_ret = pd.DataFrame(ret)\n",
    "df_ret.tail()"
   ]
  },
  {
   "cell_type": "code",
   "execution_count": 18,
   "metadata": {},
   "outputs": [],
   "source": [
    "oof = model.get_oof_prediction()"
   ]
  },
  {
   "cell_type": "code",
   "execution_count": 20,
   "metadata": {},
   "outputs": [
    {
     "name": "stdout",
     "output_type": "stream",
     "text": [
      "accuracy on oof preds: 0.9285714285714286\n"
     ]
    }
   ],
   "source": [
    "print(f\"accuracy on oof preds: {accuracy_score(lgb_train.label, np.argmax(oof, axis=1))}\")"
   ]
  },
  {
   "cell_type": "code",
   "execution_count": 29,
   "metadata": {},
   "outputs": [],
   "source": [
    "test_preds_list = model.predict(X_test, num_iteration=model.best_iteration)\n",
    "test_preds_avg = np.array(test_preds_list).mean(axis=0)\n",
    "test_preds = np.argmax(test_preds_avg, axis=1)"
   ]
  },
  {
   "cell_type": "code",
   "execution_count": 30,
   "metadata": {},
   "outputs": [
    {
     "name": "stdout",
     "output_type": "stream",
     "text": [
      "accuracy on oof preds: 1.0\n"
     ]
    }
   ],
   "source": [
    "print(f\"accuracy on oof preds: {accuracy_score(y_test, test_preds)}\")"
   ]
  },
  {
   "cell_type": "code",
   "execution_count": null,
   "metadata": {},
   "outputs": [],
   "source": []
  },
  {
   "cell_type": "markdown",
   "metadata": {},
   "source": [
    "# Regression"
   ]
  },
  {
   "cell_type": "code",
   "execution_count": 45,
   "metadata": {},
   "outputs": [],
   "source": [
    "from sklearn.metrics import mean_absolute_error"
   ]
  },
  {
   "cell_type": "code",
   "execution_count": 60,
   "metadata": {},
   "outputs": [],
   "source": [
    "df_train = pd.read_csv('../../regression/regression.train', header=None, sep='\\t')\n",
    "df_test = pd.read_csv('../../regression/regression.test', header=None, sep='\\t')\n",
    "\n",
    "y_train = df_train[0]\n",
    "y_test = df_test[0]\n",
    "X_train = df_train.drop(0, axis=1)\n",
    "X_test = df_test.drop(0, axis=1)\n"
   ]
  },
  {
   "cell_type": "code",
   "execution_count": 63,
   "metadata": {},
   "outputs": [
    {
     "name": "stdout",
     "output_type": "stream",
     "text": [
      "Training until validation scores don't improve for 100 rounds.\n",
      "[200]\tcv_agg's train l2: 0.176162 + 0.000827807\tcv_agg's train l1: 0.382783 + 0.00175247\tcv_agg's valid l2: 0.195144 + 0.00355304\tcv_agg's valid l1: 0.403061 + 0.00357333\n",
      "[400]\tcv_agg's train l2: 0.160079 + 0.000714392\tcv_agg's train l1: 0.358822 + 0.00174201\tcv_agg's valid l2: 0.194141 + 0.00367513\tcv_agg's valid l1: 0.395889 + 0.0035235\n",
      "Early stopping, best iteration is:\n",
      "[370]\tcv_agg's train l2: 0.162128 + 0.000696699\tcv_agg's train l1: 0.361787 + 0.00164497\tcv_agg's valid l2: 0.194049 + 0.00372737\tcv_agg's valid l1: 0.396464 + 0.00359467\n",
      "best_iteration : 370\n"
     ]
    },
    {
     "data": {
      "text/html": [
       "<div>\n",
       "<style scoped>\n",
       "    .dataframe tbody tr th:only-of-type {\n",
       "        vertical-align: middle;\n",
       "    }\n",
       "\n",
       "    .dataframe tbody tr th {\n",
       "        vertical-align: top;\n",
       "    }\n",
       "\n",
       "    .dataframe thead th {\n",
       "        text-align: right;\n",
       "    }\n",
       "</style>\n",
       "<table border=\"1\" class=\"dataframe\">\n",
       "  <thead>\n",
       "    <tr style=\"text-align: right;\">\n",
       "      <th></th>\n",
       "      <th>train l2-mean</th>\n",
       "      <th>train l2-stdv</th>\n",
       "      <th>train l1-mean</th>\n",
       "      <th>train l1-stdv</th>\n",
       "      <th>valid l2-mean</th>\n",
       "      <th>valid l2-stdv</th>\n",
       "      <th>valid l1-mean</th>\n",
       "      <th>valid l1-stdv</th>\n",
       "    </tr>\n",
       "  </thead>\n",
       "  <tbody>\n",
       "    <tr>\n",
       "      <th>365</th>\n",
       "      <td>0.162443</td>\n",
       "      <td>0.000678</td>\n",
       "      <td>0.362268</td>\n",
       "      <td>0.001654</td>\n",
       "      <td>0.194072</td>\n",
       "      <td>0.003669</td>\n",
       "      <td>0.396605</td>\n",
       "      <td>0.003521</td>\n",
       "    </tr>\n",
       "    <tr>\n",
       "      <th>366</th>\n",
       "      <td>0.162369</td>\n",
       "      <td>0.000675</td>\n",
       "      <td>0.362159</td>\n",
       "      <td>0.001632</td>\n",
       "      <td>0.194072</td>\n",
       "      <td>0.003699</td>\n",
       "      <td>0.396577</td>\n",
       "      <td>0.003556</td>\n",
       "    </tr>\n",
       "    <tr>\n",
       "      <th>367</th>\n",
       "      <td>0.162287</td>\n",
       "      <td>0.000681</td>\n",
       "      <td>0.362051</td>\n",
       "      <td>0.001647</td>\n",
       "      <td>0.194070</td>\n",
       "      <td>0.003699</td>\n",
       "      <td>0.396558</td>\n",
       "      <td>0.003545</td>\n",
       "    </tr>\n",
       "    <tr>\n",
       "      <th>368</th>\n",
       "      <td>0.162205</td>\n",
       "      <td>0.000698</td>\n",
       "      <td>0.361908</td>\n",
       "      <td>0.001651</td>\n",
       "      <td>0.194057</td>\n",
       "      <td>0.003718</td>\n",
       "      <td>0.396498</td>\n",
       "      <td>0.003579</td>\n",
       "    </tr>\n",
       "    <tr>\n",
       "      <th>369</th>\n",
       "      <td>0.162128</td>\n",
       "      <td>0.000697</td>\n",
       "      <td>0.361787</td>\n",
       "      <td>0.001645</td>\n",
       "      <td>0.194049</td>\n",
       "      <td>0.003727</td>\n",
       "      <td>0.396464</td>\n",
       "      <td>0.003595</td>\n",
       "    </tr>\n",
       "  </tbody>\n",
       "</table>\n",
       "</div>"
      ],
      "text/plain": [
       "     train l2-mean  train l2-stdv  train l1-mean  train l1-stdv  \\\n",
       "365       0.162443       0.000678       0.362268       0.001654   \n",
       "366       0.162369       0.000675       0.362159       0.001632   \n",
       "367       0.162287       0.000681       0.362051       0.001647   \n",
       "368       0.162205       0.000698       0.361908       0.001651   \n",
       "369       0.162128       0.000697       0.361787       0.001645   \n",
       "\n",
       "     valid l2-mean  valid l2-stdv  valid l1-mean  valid l1-stdv  \n",
       "365       0.194072       0.003669       0.396605       0.003521  \n",
       "366       0.194072       0.003699       0.396577       0.003556  \n",
       "367       0.194070       0.003699       0.396558       0.003545  \n",
       "368       0.194057       0.003718       0.396498       0.003579  \n",
       "369       0.194049       0.003727       0.396464       0.003595  "
      ]
     },
     "execution_count": 63,
     "metadata": {},
     "output_type": "execute_result"
    }
   ],
   "source": [
    "lgb_train = lgb.Dataset(X_train, y_train)\n",
    "\n",
    "params = {\n",
    "    'boosting_type': 'gbdt',\n",
    "    'objective': 'regression',\n",
    "    'learning_rate': 0.05,\n",
    "    'num_leaves': 5,\n",
    "    'metric': ['l1', 'l2'],\n",
    "    'verbose': -1\n",
    "}\n",
    "\n",
    "callbacks = [\n",
    "    lgb.early_stopping(stopping_rounds=100, first_metric_only=False, verbose=True),\n",
    "]\n",
    "\n",
    "# Training settings\n",
    "FOLD_NUM = 5\n",
    "fold_seed = 71\n",
    "folds = StratifiedKFold(n_splits=FOLD_NUM, shuffle=True, random_state=fold_seed)\n",
    "eval_train_metric=True\n",
    "# # Fitting\n",
    "ret, model = lgb.cv(params=params,\n",
    "               train_set=lgb_train,\n",
    "               folds=folds,\n",
    "               num_boost_round=5000,\n",
    "               verbose_eval = 200,\n",
    "               callbacks=callbacks, \n",
    "               eval_train_metric=eval_train_metric,\n",
    "               return_boosters=True\n",
    "               )\n",
    "print(f\"best_iteration : {model.best_iteration}\")\n",
    "\n",
    "df_ret = pd.DataFrame(ret)\n",
    "df_ret.tail()"
   ]
  },
  {
   "cell_type": "code",
   "execution_count": 43,
   "metadata": {},
   "outputs": [],
   "source": [
    "oof = model.get_oof_prediction()"
   ]
  },
  {
   "cell_type": "code",
   "execution_count": 49,
   "metadata": {},
   "outputs": [
    {
     "name": "stdout",
     "output_type": "stream",
     "text": [
      "mae: 0.39822\n"
     ]
    }
   ],
   "source": [
    "print(f\"mae: {mean_absolute_error(y_train, oof):.5f}\")"
   ]
  },
  {
   "cell_type": "code",
   "execution_count": null,
   "metadata": {},
   "outputs": [],
   "source": [
    "test_preds_list = model.predict(X_test, num_iteration=model.best_iteration)\n",
    "test_preds_avg = np.array(test_preds_list).mean(axis=0)"
   ]
  },
  {
   "cell_type": "code",
   "execution_count": null,
   "metadata": {},
   "outputs": [],
   "source": []
  },
  {
   "cell_type": "code",
   "execution_count": null,
   "metadata": {},
   "outputs": [],
   "source": []
  },
  {
   "cell_type": "code",
   "execution_count": null,
   "metadata": {},
   "outputs": [],
   "source": []
  },
  {
   "cell_type": "code",
   "execution_count": null,
   "metadata": {},
   "outputs": [],
   "source": []
  },
  {
   "cell_type": "code",
   "execution_count": null,
   "metadata": {},
   "outputs": [],
   "source": []
  },
  {
   "cell_type": "code",
   "execution_count": null,
   "metadata": {},
   "outputs": [],
   "source": [
    "y_train"
   ]
  },
  {
   "cell_type": "code",
   "execution_count": null,
   "metadata": {},
   "outputs": [],
   "source": []
  },
  {
   "cell_type": "code",
   "execution_count": null,
   "metadata": {},
   "outputs": [],
   "source": [
    "evals_result = {}  # to record eval results for plotting\n",
    "gbm = lgb.train(params,\n",
    "                lgb_train,\n",
    "                num_boost_round=100,\n",
    "                valid_sets=[lgb_train, lgb_test],\n",
    "                feature_name=['f' + str(i + 1) for i in range(X_train.shape[-1])],\n",
    "                categorical_feature=[21],\n",
    "                evals_result=evals_result,\n",
    "                verbose_eval=10)"
   ]
  },
  {
   "cell_type": "code",
   "execution_count": null,
   "metadata": {},
   "outputs": [],
   "source": [
    "\n",
    "y_pred_proba_list = proxy.predict(test, num_iteration=best_iteration)\n",
    "y_pred_proba_avg = np.array(y_pred_proba_list).mean(axis=0)\n",
    "y_pred = np.argmax(y_pred_proba_avg, axis=1)\n",
    "accuracy = accuracy_score(y_test, y_pred)\n",
    "print('Averaging accuracy:', accuracy)"
   ]
  },
  {
   "cell_type": "code",
   "execution_count": null,
   "metadata": {},
   "outputs": [],
   "source": []
  },
  {
   "cell_type": "code",
   "execution_count": null,
   "metadata": {},
   "outputs": [],
   "source": [
    "\n",
    "\n",
    "print('Starting training...')\n",
    "# train\n",
    "gbm = lgb.train(params,\n",
    "                lgb_train,\n",
    "                num_boost_round=20,\n",
    "                valid_sets=lgb_eval,\n",
    "                early_stopping_rounds=5)\n",
    "\n",
    "print('Saving model...')\n",
    "# save model to file\n",
    "gbm.save_model('model.txt')\n",
    "\n",
    "print('Starting predicting...')\n",
    "# predict\n",
    "y_pred = gbm.predict(X_test, num_iteration=gbm.best_iteration)\n",
    "# eval\n",
    "print('The rmse of prediction is:', mean_squared_error(y_test, y_pred) ** 0.5)\n"
   ]
  }
 ],
 "metadata": {
  "kernelspec": {
   "display_name": "Python 3",
   "language": "python",
   "name": "python3"
  },
  "language_info": {
   "codemirror_mode": {
    "name": "ipython",
    "version": 3
   },
   "file_extension": ".py",
   "mimetype": "text/x-python",
   "name": "python",
   "nbconvert_exporter": "python",
   "pygments_lexer": "ipython3",
   "version": "3.6.8"
  }
 },
 "nbformat": 4,
 "nbformat_minor": 2
}
